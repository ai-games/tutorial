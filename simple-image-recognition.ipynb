{
 "cells": [
  {
   "cell_type": "code",
   "execution_count": 1,
   "metadata": {
    "collapsed": true
   },
   "outputs": [
    {
     "name": "stdout",
     "output_type": "stream",
     "text": [
      "imported pandas as pd | imported numpy as np | imported matplotlib.pyplot as plt and changed visual style to \"ggplot\" | set matplotlib plots to display inline at retina resolution | imported nitpick.plots as nplt | imported bokeh .charts .plotting and .models as bkc, bkp, bkm | "
     ]
    },
    {
     "data": {
      "text/html": [
       "\n",
       "    <div class=\"bk-root\">\n",
       "        <a href=\"http://bokeh.pydata.org\" target=\"_blank\" class=\"bk-logo bk-logo-small bk-logo-notebook\"></a>\n",
       "        <span id=\"34972001-e49d-4fdc-b418-2e89fc1014ab\">Loading BokehJS ...</span>\n",
       "    </div>"
      ]
     },
     "metadata": {},
     "output_type": "display_data"
    },
    {
     "data": {
      "application/javascript": [
       "\n",
       "(function(global) {\n",
       "  function now() {\n",
       "    return new Date();\n",
       "  }\n",
       "\n",
       "  var force = \"1\";\n",
       "\n",
       "  if (typeof (window._bokeh_onload_callbacks) === \"undefined\" || force !== \"\") {\n",
       "    window._bokeh_onload_callbacks = [];\n",
       "    window._bokeh_is_loading = undefined;\n",
       "  }\n",
       "\n",
       "\n",
       "  \n",
       "  if (typeof (window._bokeh_timeout) === \"undefined\" || force !== \"\") {\n",
       "    window._bokeh_timeout = Date.now() + 5000;\n",
       "    window._bokeh_failed_load = false;\n",
       "  }\n",
       "\n",
       "  var NB_LOAD_WARNING = {'data': {'text/html':\n",
       "     \"<div style='background-color: #fdd'>\\n\"+\n",
       "     \"<p>\\n\"+\n",
       "     \"BokehJS does not appear to have successfully loaded. If loading BokehJS from CDN, this \\n\"+\n",
       "     \"may be due to a slow or bad network connection. Possible fixes:\\n\"+\n",
       "     \"</p>\\n\"+\n",
       "     \"<ul>\\n\"+\n",
       "     \"<li>re-rerun `output_notebook()` to attempt to load from CDN again, or</li>\\n\"+\n",
       "     \"<li>use INLINE resources instead, as so:</li>\\n\"+\n",
       "     \"</ul>\\n\"+\n",
       "     \"<code>\\n\"+\n",
       "     \"from bokeh.resources import INLINE\\n\"+\n",
       "     \"output_notebook(resources=INLINE)\\n\"+\n",
       "     \"</code>\\n\"+\n",
       "     \"</div>\"}};\n",
       "\n",
       "  function display_loaded() {\n",
       "    if (window.Bokeh !== undefined) {\n",
       "      Bokeh.$(\"#34972001-e49d-4fdc-b418-2e89fc1014ab\").text(\"BokehJS successfully loaded.\");\n",
       "    } else if (Date.now() < window._bokeh_timeout) {\n",
       "      setTimeout(display_loaded, 100)\n",
       "    }\n",
       "  }\n",
       "\n",
       "  function run_callbacks() {\n",
       "    window._bokeh_onload_callbacks.forEach(function(callback) { callback() });\n",
       "    delete window._bokeh_onload_callbacks\n",
       "    console.info(\"Bokeh: all callbacks have finished\");\n",
       "  }\n",
       "\n",
       "  function load_libs(js_urls, callback) {\n",
       "    window._bokeh_onload_callbacks.push(callback);\n",
       "    if (window._bokeh_is_loading > 0) {\n",
       "      console.log(\"Bokeh: BokehJS is being loaded, scheduling callback at\", now());\n",
       "      return null;\n",
       "    }\n",
       "    if (js_urls == null || js_urls.length === 0) {\n",
       "      run_callbacks();\n",
       "      return null;\n",
       "    }\n",
       "    console.log(\"Bokeh: BokehJS not loaded, scheduling load and callback at\", now());\n",
       "    window._bokeh_is_loading = js_urls.length;\n",
       "    for (var i = 0; i < js_urls.length; i++) {\n",
       "      var url = js_urls[i];\n",
       "      var s = document.createElement('script');\n",
       "      s.src = url;\n",
       "      s.async = false;\n",
       "      s.onreadystatechange = s.onload = function() {\n",
       "        window._bokeh_is_loading--;\n",
       "        if (window._bokeh_is_loading === 0) {\n",
       "          console.log(\"Bokeh: all BokehJS libraries loaded\");\n",
       "          run_callbacks()\n",
       "        }\n",
       "      };\n",
       "      s.onerror = function() {\n",
       "        console.warn(\"failed to load library \" + url);\n",
       "      };\n",
       "      console.log(\"Bokeh: injecting script tag for BokehJS library: \", url);\n",
       "      document.getElementsByTagName(\"head\")[0].appendChild(s);\n",
       "    }\n",
       "  };var element = document.getElementById(\"34972001-e49d-4fdc-b418-2e89fc1014ab\");\n",
       "  if (element == null) {\n",
       "    console.log(\"Bokeh: ERROR: autoload.js configured with elementid '34972001-e49d-4fdc-b418-2e89fc1014ab' but no matching script tag was found. \")\n",
       "    return false;\n",
       "  }\n",
       "\n",
       "  var js_urls = ['https://cdn.pydata.org/bokeh/release/bokeh-0.12.2.min.js', 'https://cdn.pydata.org/bokeh/release/bokeh-widgets-0.12.2.min.js', 'https://cdn.pydata.org/bokeh/release/bokeh-compiler-0.12.2.min.js'];\n",
       "\n",
       "  var inline_js = [\n",
       "    function(Bokeh) {\n",
       "      Bokeh.set_log_level(\"info\");\n",
       "    },\n",
       "    \n",
       "    function(Bokeh) {\n",
       "      \n",
       "      Bokeh.$(\"#34972001-e49d-4fdc-b418-2e89fc1014ab\").text(\"BokehJS is loading...\");\n",
       "    },\n",
       "    function(Bokeh) {\n",
       "      console.log(\"Bokeh: injecting CSS: https://cdn.pydata.org/bokeh/release/bokeh-0.12.2.min.css\");\n",
       "      Bokeh.embed.inject_css(\"https://cdn.pydata.org/bokeh/release/bokeh-0.12.2.min.css\");\n",
       "      console.log(\"Bokeh: injecting CSS: https://cdn.pydata.org/bokeh/release/bokeh-widgets-0.12.2.min.css\");\n",
       "      Bokeh.embed.inject_css(\"https://cdn.pydata.org/bokeh/release/bokeh-widgets-0.12.2.min.css\");\n",
       "    }\n",
       "  ];\n",
       "\n",
       "  function run_inline_js() {\n",
       "    \n",
       "    if ((window.Bokeh !== undefined) || (force === \"1\")) {\n",
       "      for (var i = 0; i < inline_js.length; i++) {\n",
       "        inline_js[i](window.Bokeh);\n",
       "      }if (force === \"1\") {\n",
       "        display_loaded();\n",
       "      }} else if (Date.now() < window._bokeh_timeout) {\n",
       "      setTimeout(run_inline_js, 100);\n",
       "    } else if (!window._bokeh_failed_load) {\n",
       "      console.log(\"Bokeh: BokehJS failed to load within specified timeout.\");\n",
       "      window._bokeh_failed_load = true;\n",
       "    } else if (!force) {\n",
       "      var cell = $(\"#34972001-e49d-4fdc-b418-2e89fc1014ab\").parents('.cell').data().cell;\n",
       "      cell.output_area.append_execute_result(NB_LOAD_WARNING)\n",
       "    }\n",
       "\n",
       "  }\n",
       "\n",
       "  if (window._bokeh_is_loading === 0) {\n",
       "    console.log(\"Bokeh: BokehJS loaded, going straight to plotting\");\n",
       "    run_inline_js();\n",
       "  } else {\n",
       "    load_libs(js_urls, function() {\n",
       "      console.log(\"Bokeh: BokehJS plotting callback run at\", now());\n",
       "      run_inline_js();\n",
       "    });\n",
       "  }\n",
       "}(this));"
      ]
     },
     "metadata": {},
     "output_type": "display_data"
    },
    {
     "data": {
      "text/html": [
       "\n",
       "<link href='https://fonts.googleapis.com/css?family=Inconsolata:400,700' rel='stylesheet' type='text/css'>\n",
       "<link href='https://fonts.googleapis.com/css?family=Merriweather:300,700' rel='stylesheet' type='text/css'>\n",
       "<link href='https://fonts.googleapis.com/css?family=Open+Sans:700,400' rel='stylesheet' type='text/css'>\n",
       "<style>\n",
       "div.cell {\n",
       "    /* Get Rid of the annoyingly unecessary space around all cells */\n",
       "    padding-top: 0;\n",
       "    padding-bottom: 0;\n",
       "    padding-right: 0;\n",
       "}\n",
       "\n",
       "div.input_area{\n",
       "    /* Get rid of the grey border around all the code cells*/\n",
       "    border-color: rgba(0,0,0,0);\n",
       "    /* Get rid of the grey background colour*/\n",
       "    background: none;/*#f6f6f6;*/\n",
       "}\n",
       "\n",
       "/* Make the in/out prompts less intrusive*/\n",
       ".prompt{\n",
       "    font-size: 12px;\n",
       "    font-family: 'Inconsolata';\n",
       "}\n",
       "div.prompt.output_prompt{\n",
       "    color: rgb(180,180,180);\n",
       "}\n",
       "div.prompt.input_prompt{\n",
       "    color: rgb(180,180,180);\n",
       "}\n",
       "\n",
       "/* Make the text larger with a nicer font in the markdown cells */\n",
       ".text_cell_render.rendered_html{\n",
       "    font-size: 17px;\n",
       "    font-family: 'Merriweather', serif;\n",
       "    // color: #3A4145;\n",
       "    line-height: 1.5em;\n",
       "}\n",
       "\n",
       "/*Change the color of the selected cell border - blend into the thick bar at the side*/\n",
       "div.cell.selected {\n",
       "    border-color: #42A5F5;\n",
       "}\n",
       "/*Change the color of the cell border in edit mode*/\n",
       ".edit_mode div.cell.selected {\n",
       "    border-color: #EF3333;\n",
       "    background: linear-gradient(to right, #EF3333 -40px, #EF3333 5px, transparent 5px, transparent 100%);\n",
       "}\n",
       "\n",
       "/* Make the output lines sit closer to their input lines*/\n",
       "div.output_subarea{\n",
       "    padding-top: 0;\n",
       "}\n",
       "\n",
       "/* Get a better code font */\n",
       ".CodeMirror {\n",
       "    font-family: 'Inconsolata', monospace;\n",
       "    font-weight: bold;\n",
       "    font-size: 15px;\n",
       "}\n",
       ".output_area pre {\n",
       "    font-family: 'Inconsolata', monospace;\n",
       "    font-size: 15px;\n",
       "}\n",
       "/*this is for code in markdown cells*/\n",
       "code {\n",
       "    font-family: 'Inconsolata', monospace;\n",
       "}\n",
       "\n",
       "/* Make the heading font nicer. Might want to decrease the letter spacing. */\n",
       "h1, h2, h3, h4, h5, h6 {\n",
       "    font-family: 'Open Sans', sans-serif;\n",
       "    letter-spacing: -1px;\n",
       "} \n",
       "</style>\n"
      ],
      "text/plain": [
       "<IPython.core.display.HTML object>"
      ]
     },
     "metadata": {},
     "output_type": "display_data"
    },
    {
     "name": "stdout",
     "output_type": "stream",
     "text": [
      "\"improved\" the css | hidding the header and toolbar"
     ]
    },
    {
     "data": {
      "text/html": [
       "\n",
       "<script>\n",
       "// This came from https://gist.github.com/ericdill/227098c569d787abde0c\n",
       "// Get rid of the menu bar with all the buttons\n",
       "// Get rid of the header bar with the name of the notebook\n",
       "\n",
       "require(['base/js/namespace', 'jquery', 'base/js/events'], function(IPython, $, events){\n",
       "        $('#header-container').hide();\n",
       "        $('.header-bar').hide();\n",
       "        $('div#maintoolbar').hide();\n",
       "        IPython.menubar._size_header();\n",
       "})\n",
       "\n",
       "// Close the output of this cell.\n",
       "Jupyter.notebook.select_prev();\n",
       "Jupyter.notebook.collapse_output();\n",
       "</script>\n"
      ],
      "text/plain": [
       "<IPython.core.display.HTML object>"
      ]
     },
     "metadata": {},
     "output_type": "display_data"
    }
   ],
   "source": [
    "%run ~/Projects/Jupyter-Mods/ruaridhs-notebook-initialiser.ipy\n",
    "%run ~/Projects/Jupyter-Mods/ruaridhs-notebook-prettifier.ipy"
   ]
  },
  {
   "cell_type": "markdown",
   "metadata": {
    "deletable": true,
    "editable": true
   },
   "source": [
    "### Initialisation"
   ]
  },
  {
   "cell_type": "code",
   "execution_count": 3,
   "metadata": {
    "collapsed": true,
    "deletable": true,
    "editable": true
   },
   "outputs": [],
   "source": [
    "# make this compatible with python2 and python3\n",
    "from __future__ import absolute_import\n",
    "from __future__ import division\n",
    "from __future__ import print_function"
   ]
  },
  {
   "cell_type": "code",
   "execution_count": 4,
   "metadata": {
    "collapsed": true,
    "deletable": true,
    "editable": true
   },
   "outputs": [],
   "source": [
    "# import matplotlib to be able to plot things\n",
    "import matplotlib.pyplot as plt\n",
    "# make the plots appear in jupyter notebook\n",
    "%matplotlib inline\n",
    "# make the plots high resolution\n",
    "%config InlineBackend.figure_format='retina' "
   ]
  },
  {
   "cell_type": "markdown",
   "metadata": {
    "deletable": true,
    "editable": true
   },
   "source": [
    "# 1) Get The Data"
   ]
  },
  {
   "cell_type": "markdown",
   "metadata": {
    "deletable": true,
    "editable": true
   },
   "source": [
    "The tensorflow library has some example datasets included. This one called MNIST is of small hand written digits."
   ]
  },
  {
   "cell_type": "code",
   "execution_count": 5,
   "metadata": {
    "collapsed": false,
    "deletable": true,
    "editable": true
   },
   "outputs": [
    {
     "name": "stdout",
     "output_type": "stream",
     "text": [
      "Extracting ./train-images-idx3-ubyte.gz\n",
      "Extracting ./train-labels-idx1-ubyte.gz\n",
      "Extracting ./t10k-images-idx3-ubyte.gz\n",
      "Extracting ./t10k-labels-idx1-ubyte.gz\n"
     ]
    }
   ],
   "source": [
    "from tensorflow.examples.tutorials.mnist import input_data\n",
    "mnist = input_data.read_data_sets('.', one_hot=True)"
   ]
  },
  {
   "cell_type": "markdown",
   "metadata": {
    "deletable": true,
    "editable": true
   },
   "source": [
    "Look at the data to see what's there."
   ]
  },
  {
   "cell_type": "code",
   "execution_count": 8,
   "metadata": {
    "collapsed": false,
    "deletable": true,
    "editable": true
   },
   "outputs": [
    {
     "data": {
      "text/plain": [
       "(55000, 784)"
      ]
     },
     "execution_count": 8,
     "metadata": {},
     "output_type": "execute_result"
    }
   ],
   "source": [
    "mnist.train.images.shape"
   ]
  },
  {
   "cell_type": "code",
   "execution_count": 12,
   "metadata": {
    "collapsed": false,
    "deletable": true,
    "editable": true
   },
   "outputs": [
    {
     "data": {
      "image/png": "[encoded data removed]",
      "text/plain": [
       "<matplotlib.figure.Figure at 0x11762b850>"
      ]
     },
     "metadata": {
      "image/png": {
       "height": 250,
       "width": 253
      }
     },
     "output_type": "display_data"
    }
   ],
   "source": [
    "plt.imshow(mnist.train.images[90].reshape([28,28]),cmap='gray_r');"
   ]
  },
  {
   "cell_type": "code",
   "execution_count": 11,
   "metadata": {
    "collapsed": false,
    "deletable": true,
    "editable": true
   },
   "outputs": [
    {
     "data": {
      "text/plain": [
       "array([ 0.,  0.,  0.,  0.,  1.,  0.,  0.,  0.,  0.,  0.])"
      ]
     },
     "execution_count": 11,
     "metadata": {},
     "output_type": "execute_result"
    }
   ],
   "source": [
    "mnist.train.labels[2]"
   ]
  },
  {
   "cell_type": "markdown",
   "metadata": {
    "deletable": true,
    "editable": true
   },
   "source": [
    "# 2) Define The Model"
   ]
  },
  {
   "cell_type": "code",
   "execution_count": 13,
   "metadata": {
    "collapsed": true,
    "deletable": true,
    "editable": true
   },
   "outputs": [],
   "source": [
    "import tensorflow as tf"
   ]
  },
  {
   "cell_type": "markdown",
   "metadata": {
    "deletable": true,
    "editable": true
   },
   "source": [
    "### Define The Model"
   ]
  },
  {
   "cell_type": "code",
   "execution_count": 14,
   "metadata": {
    "collapsed": true,
    "deletable": true,
    "editable": true
   },
   "outputs": [],
   "source": [
    "# add a placeholder to input the images and labels\n",
    "input_images = tf.placeholder(tf.float32, [None, 784])\n",
    "labels = tf.placeholder(tf.float32, [None, 10])\n",
    "\n",
    "# define the parameters of the model\n",
    "W1 = tf.Variable(tf.truncated_normal([784, 64]))\n",
    "b1 = tf.Variable(tf.zeros([64]))\n",
    "\n",
    "W2 = tf.Variable(tf.truncated_normal([64, 10]))\n",
    "b2 = tf.Variable(tf.zeros([10]))\n",
    "\n",
    "# define the computation the model performs\n",
    "logits1 = tf.nn.relu(tf.matmul(input_images, W1) + b1)\n",
    "logits2 = tf.matmul(logits1, W2) + b2"
   ]
  },
  {
   "cell_type": "markdown",
   "metadata": {
    "deletable": true,
    "editable": true
   },
   "source": [
    "### Define The Loss Function"
   ]
  },
  {
   "cell_type": "code",
   "execution_count": 15,
   "metadata": {
    "collapsed": false,
    "deletable": true,
    "editable": true
   },
   "outputs": [],
   "source": [
    "# Define loss function\n",
    "loss = tf.reduce_mean(\n",
    "  tf.nn.softmax_cross_entropy_with_logits(labels=labels, logits=logits2))\n",
    "\n",
    "# Define the output of the model\n",
    "prediction = tf.nn.softmax(logits2)\n",
    "\n",
    "# Define the trainer\n",
    "train_step = tf.train.GradientDescentOptimizer(0.9).minimize(loss)"
   ]
  },
  {
   "cell_type": "markdown",
   "metadata": {
    "deletable": true,
    "editable": true
   },
   "source": [
    "# 3) Train The Model"
   ]
  },
  {
   "cell_type": "markdown",
   "metadata": {
    "deletable": true,
    "editable": true
   },
   "source": [
    "### Setup The Tensorflow Session"
   ]
  },
  {
   "cell_type": "code",
   "execution_count": 16,
   "metadata": {
    "collapsed": true,
    "deletable": true,
    "editable": true
   },
   "outputs": [],
   "source": [
    "sess = tf.InteractiveSession()\n",
    "tf.global_variables_initializer().run()"
   ]
  },
  {
   "cell_type": "markdown",
   "metadata": {
    "deletable": true,
    "editable": true
   },
   "source": [
    "### Train The Model"
   ]
  },
  {
   "cell_type": "code",
   "execution_count": 18,
   "metadata": {
    "collapsed": true,
    "deletable": true,
    "editable": true
   },
   "outputs": [],
   "source": [
    "loss_history = []"
   ]
  },
  {
   "cell_type": "code",
   "execution_count": 19,
   "metadata": {
    "collapsed": false,
    "deletable": true,
    "editable": true
   },
   "outputs": [
    {
     "name": "stdout",
     "output_type": "stream",
     "text": [
      "132.194\n",
      "1.17699\n",
      "0.798533\n",
      "0.657436\n",
      "0.569862\n",
      "0.497914\n",
      "0.441236\n",
      "0.413106\n",
      "0.39011\n",
      "0.360489\n",
      "0.336264\n",
      "0.362535\n",
      "0.317747\n",
      "0.313818\n",
      "0.307414\n",
      "0.315019\n",
      "0.304089\n",
      "0.301466\n",
      "0.26334\n",
      "0.248717\n"
     ]
    }
   ],
   "source": [
    "for i in range(2000):\n",
    "    \n",
    "    # get some of the images and their labels\n",
    "    batch_images, batch_labels = mnist.train.next_batch(5500)\n",
    "    \n",
    "    # Perform one step of training\n",
    "    _, l = sess.run([train_step, loss], feed_dict={input_images: batch_images, labels: batch_labels})\n",
    "    \n",
    "    # Every 100 iterations print out the value of the loss function\n",
    "    if i%100 == 0:\n",
    "        loss_history.append(l)\n",
    "        print(l)"
   ]
  },
  {
   "cell_type": "code",
   "execution_count": 20,
   "metadata": {
    "collapsed": false,
    "deletable": true,
    "editable": true
   },
   "outputs": [
    {
     "data": {
      "image/png": "[encoded data removed]",
      "text/plain": [
       "<matplotlib.figure.Figure at 0x117e6c150>"
      ]
     },
     "metadata": {
      "image/png": {
       "height": 467,
       "width": 876
      }
     },
     "output_type": "display_data"
    }
   ],
   "source": [
    "plt.plot(loss_history[1:], 'o-');\n",
    "plt.gcf().set_size_inches([15,8])"
   ]
  },
  {
   "cell_type": "markdown",
   "metadata": {
    "deletable": true,
    "editable": true
   },
   "source": [
    "# 4) Check Whether It Works"
   ]
  },
  {
   "cell_type": "markdown",
   "metadata": {
    "deletable": true,
    "editable": true
   },
   "source": [
    "### Test The Trained Model"
   ]
  },
  {
   "cell_type": "code",
   "execution_count": 277,
   "metadata": {
    "collapsed": false,
    "deletable": true,
    "editable": true
   },
   "outputs": [
    {
     "name": "stdout",
     "output_type": "stream",
     "text": [
      "0.9453\n"
     ]
    }
   ],
   "source": [
    "correct_prediction = tf.equal(tf.argmax(logits2, 1), tf.argmax(labels, 1))\n",
    "accuracy = tf.reduce_mean(tf.cast(correct_prediction, tf.float32))\n",
    "\n",
    "print(sess.run(accuracy, feed_dict={input_images: mnist.test.images,\n",
    "                                      labels: mnist.test.labels}))"
   ]
  },
  {
   "cell_type": "markdown",
   "metadata": {
    "deletable": true,
    "editable": true
   },
   "source": [
    "# 5) Use The Model"
   ]
  },
  {
   "cell_type": "code",
   "execution_count": 26,
   "metadata": {
    "collapsed": true,
    "deletable": true,
    "editable": true
   },
   "outputs": [],
   "source": [
    "def prediction_to_number(prediction):\n",
    "    \"\"\" Converts the output of the model to the acual number it represents.\"\"\"\n",
    "    i = prediction.argmax()\n",
    "    return i"
   ]
  },
  {
   "cell_type": "code",
   "execution_count": 22,
   "metadata": {
    "collapsed": true,
    "deletable": true,
    "editable": true
   },
   "outputs": [],
   "source": [
    "# pick a random image\n",
    "test_i = 121\n",
    "img = mnist.test.images[test_i:test_i+1]"
   ]
  },
  {
   "cell_type": "code",
   "execution_count": 23,
   "metadata": {
    "collapsed": false,
    "deletable": true,
    "editable": true
   },
   "outputs": [
    {
     "data": {
      "image/png": "[encoded data removed]",
      "text/plain": [
       "<matplotlib.figure.Figure at 0x11a80f810>"
      ]
     },
     "metadata": {
      "image/png": {
       "height": 250,
       "width": 253
      }
     },
     "output_type": "display_data"
    }
   ],
   "source": [
    "# display the image\n",
    "plt.imshow(img.reshape([28,28]),cmap='gray_r');"
   ]
  },
  {
   "cell_type": "code",
   "execution_count": 24,
   "metadata": {
    "collapsed": false,
    "deletable": true,
    "editable": true
   },
   "outputs": [
    {
     "name": "stdout",
     "output_type": "stream",
     "text": [
      "[[  6.66350068e-04   1.02502722e-02   1.97294285e-03   3.17253056e-03\n",
      "    6.97642326e-01   3.93664464e-03   1.43512413e-02   1.85987912e-02\n",
      "    4.28182296e-02   2.06590727e-01]]\n"
     ]
    }
   ],
   "source": [
    "# predict what number this image represents\n",
    "p = sess.run(prediction, feed_dict={input_images: img, labels: mnist.test.labels[0:1]})\n",
    "print(p)"
   ]
  },
  {
   "cell_type": "code",
   "execution_count": 27,
   "metadata": {
    "collapsed": false,
    "deletable": true,
    "editable": true
   },
   "outputs": [
    {
     "data": {
      "text/plain": [
       "4"
      ]
     },
     "execution_count": 27,
     "metadata": {},
     "output_type": "execute_result"
    }
   ],
   "source": [
    "# convert the ouput to the actual number\n",
    "prediction_to_number(p)"
   ]
  },
  {
   "cell_type": "markdown",
   "metadata": {
    "deletable": true,
    "editable": true
   },
   "source": [
    "# Try real input"
   ]
  },
  {
   "cell_type": "markdown",
   "metadata": {
    "deletable": true,
    "editable": true
   },
   "source": [
    " - read from camera / folder into numpy array\n",
    " - crop to square\n",
    " - resize to 28*28\n",
    " - run prediction"
   ]
  },
  {
   "cell_type": "code",
   "execution_count": null,
   "metadata": {
    "collapsed": true,
    "deletable": true,
    "editable": true
   },
   "outputs": [],
   "source": []
  }
 ],
 "metadata": {
  "kernelspec": {
   "display_name": "Python 2",
   "language": "python",
   "name": "python2"
  },
  "language_info": {
   "codemirror_mode": {
    "name": "ipython",
    "version": 2
   },
   "file_extension": ".py",
   "mimetype": "text/x-python",
   "name": "python",
   "nbconvert_exporter": "python",
   "pygments_lexer": "ipython2",
   "version": "2.7.9"
  }
 },
 "nbformat": 4,
 "nbformat_minor": 2
}
